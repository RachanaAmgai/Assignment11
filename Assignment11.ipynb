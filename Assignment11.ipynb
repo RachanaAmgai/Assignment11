{
 "cells": [
  {
   "cell_type": "markdown",
   "id": "56d454ef-44c6-44a5-8662-842afdc3f578",
   "metadata": {},
   "source": [
    "### Rachana Amgai\n",
    "### Assignment 11\n",
    "### 11/16/2024"
   ]
  },
  {
   "cell_type": "code",
   "execution_count": null,
   "id": "865d8686-9845-4405-8629-280f2ae0cdc5",
   "metadata": {},
   "outputs": [],
   "source": [
    "from scipy import stats"
   ]
  },
  {
   "cell_type": "markdown",
   "id": "62b4d892-ad0a-4e89-b33a-1e6b4bf1429f",
   "metadata": {},
   "source": [
    "### 1a"
   ]
  },
  {
   "cell_type": "code",
   "execution_count": 37,
   "id": "769dda23-fe42-40c1-9c20-6d1f9e6ca302",
   "metadata": {},
   "outputs": [
    {
     "name": "stdout",
     "output_type": "stream",
     "text": [
      "Part (a): Ensemble accuracy with 15 models, each with 63% accuracy: 0.8513\n"
     ]
    }
   ],
   "source": [
    "# Import required libraries\n",
    "from scipy.stats import binom\n",
    "\n",
    "# Part (a): Ensemble accuracy with 15 individual models each having 63% accuracy\n",
    "\n",
    "# Given values\n",
    "num_models_a = 15  # number of models\n",
    "individual_accuracy_a = 0.63  # accuracy of each individual model\n",
    "majority_vote_threshold_a = (num_models_a // 2) + 1  # majority threshold\n",
    "\n",
    "# Calculate ensemble accuracy\n",
    "ensemble_accuracy_a = sum(binom.pmf(k, num_models_a, individual_accuracy_a) for k in range(majority_vote_threshold_a, num_models_a + 1))\n",
    "print(f\"Part (a): Ensemble accuracy with 15 models, each with 63% accuracy: {ensemble_accuracy_a:.4f}\")\n"
   ]
  },
  {
   "cell_type": "markdown",
   "id": "4e53dd68-ca21-40c4-baac-f35f86cba349",
   "metadata": {},
   "source": [
    "### 1b"
   ]
  },
  {
   "cell_type": "code",
   "execution_count": 3,
   "id": "4727a8c7-cf80-4874-b269-dba0a5f8a016",
   "metadata": {},
   "outputs": [
    {
     "name": "stdout",
     "output_type": "stream",
     "text": [
      "Part (b): Required individual model accuracy for 95% ensemble accuracy: 71%\n"
     ]
    }
   ],
   "source": [
    "# Part (b): Required individual model accuracy for 95% ensemble accuracy\n",
    "\n",
    "# Target accuracy for the ensemble model\n",
    "target_ensemble_accuracy_b = 0.95\n",
    "\n",
    "# Loop through individual accuracies to find the smallest integer percent that meets the target accuracy\n",
    "individual_accuracy_b = 0\n",
    "ensemble_accuracy_b = 0\n",
    "\n",
    "while ensemble_accuracy_b < target_ensemble_accuracy_b:\n",
    "    individual_accuracy_b += 0.01  # increase accuracy by 1%\n",
    "    ensemble_accuracy_b = sum(binom.pmf(k, num_models_a, individual_accuracy_b) for k in range(majority_vote_threshold_a, num_models_a + 1))\n",
    "\n",
    "# Convert individual accuracy from decimal to whole number percentage\n",
    "individual_accuracy_b_percent = int(individual_accuracy_b * 100)\n",
    "print(f\"Part (b): Required individual model accuracy for 95% ensemble accuracy: {individual_accuracy_b_percent}%\")\n"
   ]
  },
  {
   "cell_type": "code",
   "execution_count": 5,
   "id": "a0dc3472-bd27-4f4e-8d19-35dcdee62f45",
   "metadata": {},
   "outputs": [
    {
     "name": "stdout",
     "output_type": "stream",
     "text": [
      "Part (c): Number of models needed for 95% ensemble accuracy with 63% individual accuracy: 39\n"
     ]
    }
   ],
   "source": [
    "# Part (c): Minimum number of models for 95% ensemble accuracy with 63% individual accuracy\n",
    "\n",
    "# Target accuracy for the ensemble model\n",
    "target_ensemble_accuracy_c = 0.95\n",
    "individual_accuracy_c = 0.63\n",
    "num_models_c = 15  # starting with 15 models as the initial condition\n",
    "ensemble_accuracy_c = 0\n",
    "\n",
    "# Find the smallest odd number of models for target accuracy\n",
    "while ensemble_accuracy_c < target_ensemble_accuracy_c:\n",
    "    majority_vote_threshold_c = (num_models_c // 2) + 1\n",
    "    ensemble_accuracy_c = sum(binom.pmf(k, num_models_c, individual_accuracy_c) for k in range(majority_vote_threshold_c, num_models_c + 1))\n",
    "    if ensemble_accuracy_c < target_ensemble_accuracy_c:\n",
    "        num_models_c += 2  # increment by 2 to keep it an odd number\n",
    "\n",
    "print(f\"Part (c): Number of models needed for 95% ensemble accuracy with 63% individual accuracy: {num_models_c}\")\n"
   ]
  },
  {
   "cell_type": "markdown",
   "id": "4a75cc4e-183a-4c03-b6bb-f2804c11076e",
   "metadata": {},
   "source": [
    "### part 2"
   ]
  },
  {
   "cell_type": "code",
   "execution_count": 22,
   "id": "d3003758-5218-4859-a589-29a153bbeff6",
   "metadata": {},
   "outputs": [],
   "source": [
    "# (a) Define the pmf for X\n",
    "# Values that X can take on\n",
    "values = [1, 2, 3, 4, 5]\n",
    "# Probabilities corresponding to each value\n",
    "probabilities = [0.1, 0.2, 0.3, 0.2, 0.2]  # These probabilities sum to 1\n"
   ]
  },
  {
   "cell_type": "code",
   "execution_count": 24,
   "id": "569c6930-325b-4f45-a17e-111f843ae4c0",
   "metadata": {},
   "outputs": [],
   "source": [
    "# (b) Function to generate 50 random X-values and calculate their mean\n",
    "import numpy as np\n",
    "\n",
    "def generate_sample_mean():\n",
    "    sample = np.random.choice(values, size=50, p=probabilities)\n",
    "    return np.mean(sample)\n"
   ]
  },
  {
   "cell_type": "code",
   "execution_count": 26,
   "id": "f506fd57-9c2e-4a9d-a8f2-0f53587f6272",
   "metadata": {},
   "outputs": [],
   "source": [
    "# (c) Function to run the function from part (b) 1,000 times and store the means in a list\n",
    "def run_simulation(n=1000):\n",
    "    means = [generate_sample_mean() for _ in range(n)]\n",
    "    return means\n",
    "\n",
    "# Run the simulation and store the list of means\n",
    "means_list = run_simulation()\n"
   ]
  },
  {
   "cell_type": "code",
   "execution_count": 14,
   "id": "818e6ddb-1f5a-4439-85c6-4be3093b9155",
   "metadata": {},
   "outputs": [
    {
     "data": {
      "image/png": "[encoded data removed]",
      "text/plain": [
       "<Figure size 640x480 with 1 Axes>"
      ]
     },
     "metadata": {},
     "output_type": "display_data"
    }
   ],
   "source": [
    "# (d) Create a histogram of the means\n",
    "import matplotlib.pyplot as plt\n",
    "\n",
    "plt.hist(means_list, bins=30, edgecolor='k', alpha=0.7)\n",
    "plt.title(\"Histogram of Sample Means (n=50) over 1000 Runs\")\n",
    "plt.xlabel(\"Sample Mean\")\n",
    "plt.ylabel(\"Frequency\")\n",
    "plt.show()\n"
   ]
  },
  {
   "cell_type": "code",
   "execution_count": 16,
   "id": "8079512f-fecb-463c-963b-b2a117a0cc4b",
   "metadata": {},
   "outputs": [
    {
     "name": "stdout",
     "output_type": "stream",
     "text": [
      "Mean of means: 3.20354\n",
      "Standard deviation of means: 0.17440145756271647\n"
     ]
    }
   ],
   "source": [
    "# (e) Calculate the mean and standard deviation of the means list\n",
    "mean_of_means = np.mean(means_list)\n",
    "std_dev_of_means = np.std(means_list)\n",
    "print(\"Mean of means:\", mean_of_means)\n",
    "print(\"Standard deviation of means:\", std_dev_of_means)\n"
   ]
  },
  {
   "cell_type": "code",
   "execution_count": 28,
   "id": "f8d352cc-6ddc-485b-b1bd-c1df072c85db",
   "metadata": {},
   "outputs": [
    {
     "name": "stdout",
     "output_type": "stream",
     "text": [
      "Theoretical mean: 3.2\n",
      "Theoretical standard deviation: 0.17663521732655693\n"
     ]
    }
   ],
   "source": [
    "# Calculate theoretical mean and standard deviation for comparison\n",
    "theoretical_mean = np.dot(values, probabilities)\n",
    "theoretical_variance = np.dot([(x - theoretical_mean)**2 for x in values], probabilities)\n",
    "theoretical_std_dev = np.sqrt(theoretical_variance / 50)  # Standard deviation of the sample mean\n",
    "\n",
    "print(\"Theoretical mean:\", theoretical_mean)\n",
    "print(\"Theoretical standard deviation:\", theoretical_std_dev)\n"
   ]
  },
  {
   "cell_type": "code",
   "execution_count": null,
   "id": "37cb1c90-6881-4c45-b391-64ce16a4a31c",
   "metadata": {},
   "outputs": [],
   "source": []
  }
 ],
 "metadata": {
  "kernelspec": {
   "display_name": "Python 3 (ipykernel)",
   "language": "python",
   "name": "python3"
  },
  "language_info": {
   "codemirror_mode": {
    "name": "ipython",
    "version": 3
   },
   "file_extension": ".py",
   "mimetype": "text/x-python",
   "name": "python",
   "nbconvert_exporter": "python",
   "pygments_lexer": "ipython3",
   "version": "3.12.4"
  }
 },
 "nbformat": 4,
 "nbformat_minor": 5
}
